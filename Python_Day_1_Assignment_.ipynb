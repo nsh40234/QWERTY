{
  "nbformat": 4,
  "nbformat_minor": 0,
  "metadata": {
    "colab": {
      "name": " Python_Day 1_Assignment .ipynb",
      "provenance": [],
      "collapsed_sections": [],
      "authorship_tag": "ABX9TyMzD6riid+ljKBrwGVt8cH4",
      "include_colab_link": true
    },
    "kernelspec": {
      "name": "python3",
      "display_name": "Python 3"
    },
    "language_info": {
      "name": "python"
    }
  },
  "cells": [
    {
      "cell_type": "markdown",
      "metadata": {
        "id": "view-in-github",
        "colab_type": "text"
      },
      "source": [
        "<a href=\"https://colab.research.google.com/github/nsh40234/QWERTY/blob/main/Python_Day_1_Assignment_.ipynb\" target=\"_parent\"><img src=\"https://colab.research.google.com/assets/colab-badge.svg\" alt=\"Open In Colab\"/></a>"
      ]
    },
    {
      "cell_type": "code",
      "execution_count": 5,
      "metadata": {
        "colab": {
          "base_uri": "https://localhost:8080/"
        },
        "id": "0k56Lux0kOK-",
        "outputId": "adf7558b-0026-4115-9f66-029d8a3b51fc"
      },
      "outputs": [
        {
          "output_type": "stream",
          "name": "stdout",
          "text": [
            "Enter integer values: 40 50 10\n",
            "100\n"
          ]
        }
      ],
      "source": [
        "# Take multiple numbers as input and print the sum\n",
        "x = [int(a) for a in input('Enter integer values: ').split()]\n",
        "\n",
        "s = 0\n",
        "for b in x:\n",
        "  s += b # sum = sum + j\n",
        "\n",
        "print(s)\n",
        "\n"
      ]
    },
    {
      "cell_type": "code",
      "source": [
        ""
      ],
      "metadata": {
        "id": "rYEOSVRKoCEC"
      },
      "execution_count": 4,
      "outputs": []
    }
  ]
}