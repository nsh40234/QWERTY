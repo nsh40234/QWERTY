{
  "nbformat": 4,
  "nbformat_minor": 0,
  "metadata": {
    "colab": {
      "name": "python day 3 .ipynb",
      "provenance": [],
      "authorship_tag": "ABX9TyM2EtpsBTgADo9Xr86mcOLR",
      "include_colab_link": true
    },
    "kernelspec": {
      "name": "python3",
      "display_name": "Python 3"
    },
    "language_info": {
      "name": "python"
    }
  },
  "cells": [
    {
      "cell_type": "markdown",
      "metadata": {
        "id": "view-in-github",
        "colab_type": "text"
      },
      "source": [
        "<a href=\"https://colab.research.google.com/github/nsh40234/QWERTY/blob/main/python_day_3_.ipynb\" target=\"_parent\"><img src=\"https://colab.research.google.com/assets/colab-badge.svg\" alt=\"Open In Colab\"/></a>"
      ]
    },
    {
      "cell_type": "code",
      "execution_count": 2,
      "metadata": {
        "colab": {
          "base_uri": "https://localhost:8080/"
        },
        "id": "13aHUoLjAbRS",
        "outputId": "f69c455c-bb34-449b-92f6-01c4e09fd170"
      },
      "outputs": [
        {
          "output_type": "stream",
          "name": "stdout",
          "text": [
            "Iphone\n"
          ]
        }
      ],
      "source": [
        "price_tag = {\n",
        "    \"Mobile\" : \"15000\",\n",
        "    \"Laptop\" : \"50000\",\n",
        "    \"Ipod\" : \"45000\",\n",
        "    \"Watch\" : \"20000\",\n",
        "    \"Iphone\" : \"95000\"\n",
        "}\n",
        "max_price_tag = max(price_tag,key=price_tag.get)\n",
        "print(max_price_tag)"
      ]
    }
  ]
}