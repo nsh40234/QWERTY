{
  "nbformat": 4,
  "nbformat_minor": 0,
  "metadata": {
    "colab": {
      "name": "python day 4 assignment .ipynb",
      "provenance": [],
      "collapsed_sections": []
    },
    "kernelspec": {
      "name": "python3",
      "display_name": "Python 3"
    },
    "language_info": {
      "name": "python"
    }
  },
  "cells": [
    {
      "cell_type": "code",
      "execution_count": 5,
      "metadata": {
        "colab": {
          "base_uri": "https://localhost:8080/"
        },
        "id": "0mpoPhM7Fngo",
        "outputId": "fc00fb7e-d10f-4629-c610-8f92eb3b8254"
      },
      "outputs": [
        {
          "output_type": "stream",
          "name": "stdout",
          "text": [
            "Enter Any Number Of Your Choice: 3\n",
            "6\n"
          ]
        }
      ],
      "source": [
        "n = int(input(\"Enter Any Number Of Your Choice: \"))\n",
        "def fact(n):\n",
        "    product = 1\n",
        "    for i in range(n):\n",
        "        product = product * (i+1)\n",
        "    return product\n",
        "\n",
        "f = fact(n)\n",
        "print(f)"
      ]
    }
  ]
}