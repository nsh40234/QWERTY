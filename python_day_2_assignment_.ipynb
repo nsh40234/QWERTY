{
  "nbformat": 4,
  "nbformat_minor": 0,
  "metadata": {
    "colab": {
      "name": "python day 2 assignment .ipynb",
      "provenance": []
    },
    "kernelspec": {
      "name": "python3",
      "display_name": "Python 3"
    },
    "language_info": {
      "name": "python"
    }
  },
  "cells": [
    {
      "cell_type": "code",
      "execution_count": 5,
      "metadata": {
        "colab": {
          "base_uri": "https://localhost:8080/"
        },
        "id": "WVaBMBt2LdNU",
        "outputId": "0bcfe800-5c8d-4323-de2f-9435bcd32d25"
      },
      "outputs": [
        {
          "output_type": "stream",
          "name": "stdout",
          "text": [
            "Choose correct character of the word ' Hello coders ' to win the lottery\n",
            " o\n",
            "Congratulations, You Win\n"
          ]
        }
      ],
      "source": [
        "lottery = \"Hello coders\"\n",
        "\n",
        "print(\"Choose correct character of the word '\",lottery,\"' to win the lottery\")\n",
        "\n",
        "inputs = input(\" \").lower()\n",
        "\n",
        "if inputs == lottery[0] or inputs == lottery[1] or inputs == lottery[4] or inputs == lottery[6] or inputs == lottery[8]:\n",
        "    print(\"Congratulations, You Win\")\n",
        "else:\n",
        "    print(\"Sorry, You Lose! Better Luck Next Time\")"
      ]
    }
  ]
}